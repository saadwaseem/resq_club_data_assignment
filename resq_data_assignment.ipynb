{
 "cells": [
  {
   "cell_type": "markdown",
   "metadata": {},
   "source": [
    "#### Python Packages"
   ]
  },
  {
   "cell_type": "code",
   "execution_count": 16,
   "metadata": {},
   "outputs": [],
   "source": [
    "#All dependencies are managed in requirements.txt\n",
    "import sqlite3\n",
    "import pandas as pd\n",
    "import numpy as np\n",
    "import logging\n",
    "import matplotlib.pyplot as plt"
   ]
  },
  {
   "cell_type": "code",
   "execution_count": 17,
   "metadata": {},
   "outputs": [],
   "source": [
    "#Constants \n",
    "DB_NAME = 'mock_resq.db'\n",
    "TABLE_ORDERS = 'orders'\n",
    "TABLE_PROVIDERS = 'providers'\n",
    "TABLE_USERS = 'users'\n",
    "TABLE_DENORM = 'denorm_table'\n",
    "#Set True to re-run the table creation pipeline\n",
    "RESTART_PIPELINE = False\n",
    "\n",
    "#logging setup\n",
    "logging.basicConfig(format='%(levelname)s:%(message)s', level=logging.INFO)"
   ]
  },
  {
   "cell_type": "markdown",
   "metadata": {},
   "source": [
    "#### Utility Functions"
   ]
  },
  {
   "cell_type": "code",
   "execution_count": 18,
   "metadata": {},
   "outputs": [],
   "source": [
    "def connect_db(db_name = DB_NAME):\n",
    "    \"\"\"\n",
    "    Connects to SQLite DB.\n",
    "\n",
    "    Args:\n",
    "        db_name (str): DB name to connect with.\n",
    "\n",
    "    Returns:\n",
    "        sqlite3.Connection/None: Either a connection object or None in case of connection errors.\n",
    "    \"\"\"\n",
    "    try:\n",
    "        #establish connection to SQLite database\n",
    "        conn = sqlite3.connect(db_name)\n",
    "        return conn\n",
    "    except Exception as e:\n",
    "        logging.error(f\"An exception occured: {e}\")\n",
    "    \n",
    "    return None\n",
    "\n",
    "def execute_query(conn, query):\n",
    "    \"\"\"\n",
    "    Executes DDL queries.\n",
    "\n",
    "    Args:\n",
    "        conn (sqlite3.Connection): DB connection object to run queries.\n",
    "        query (str): SQL query to execute.\n",
    "\n",
    "    Returns: Returns nothing.\n",
    "    \n",
    "    Raises:\n",
    "        Exception: if query is not valid or could not be executed.\n",
    "    \"\"\"\n",
    "    try:\n",
    "        conn.execute(query)\n",
    "    except Exception as e:\n",
    "        logging.error(f\"Query can't be executed: {e}\")\n",
    "        raise"
   ]
  },
  {
   "cell_type": "markdown",
   "metadata": {},
   "source": [
    "Before creating this table I reviewed the provided database mock_resq.db schema and data using [DB Browser for SQLite](https://sqlitebrowser.org/). After carefully review of the DB and questions that analyst intends to ask I was able to understand that this task is about denormalization of data in favour of analytical workload (A common scenario)\n",
    "when data from OLTP systems is moved to OLAP systems for running analytical queries.\n",
    "\n",
    "**Initial Findings:**\n",
    "- Three tables namely: users, orders, providers\n",
    "- Users are customers and providers are partners\n",
    "- Customer Base: 111 different countries\n",
    "- User Registeration Dates: 2015 and 2023 (Total: 8 years)\n",
    "- Provider Offer Types: meal, snack, dessert, grocery-bag, ingredients, flowers -- six offer types\n",
    "- Provider Countries: fin, swe, deu, pol, est\n",
    "- Total Orders: 300,000 approx\n",
    "- And a few minor details that I kept checking during my implementation using DB Browser"
   ]
  },
  {
   "cell_type": "markdown",
   "metadata": {},
   "source": [
    "#### Problem - 1"
   ]
  },
  {
   "cell_type": "code",
   "execution_count": 19,
   "metadata": {},
   "outputs": [],
   "source": [
    "if RESTART_PIPELINE:\n",
    "    #connect SQLite DB\n",
    "    conn = connect_db()\n",
    "    if not conn:\n",
    "        logging.error(\"Could not connect DB\")\n",
    "    else:\n",
    "        # To Restart the table creation -- execute this cell\n",
    "        try:\n",
    "            execute_query(conn, f\"Drop Table {TABLE_DENORM}\")\n",
    "        except Exception as e:\n",
    "            logging.error(f\"An exception occured while dropping {TABLE_DENORM}: {e}\")"
   ]
  },
  {
   "cell_type": "code",
   "execution_count": null,
   "metadata": {},
   "outputs": [],
   "source": [
    "#Table creation - pipeline\n",
    "\n",
    "#connect SQLite DB\n",
    "conn = connect_db()\n",
    "if not conn:\n",
    "    logging.error(\"Could not connect DB\")\n",
    "else:\n",
    "    \"\"\" \n",
    "        Create a temporary table with cohort data.\n",
    "        since cohort month is when the user made its first purchase and \n",
    "        later this data will be used to calculate M1 retention therefore\n",
    "        I am keeping cohort in date format to make downstream comparison with\n",
    "        order's date (here days are irrelevant).\n",
    "    \"\"\"\n",
    "    cohort_table = \"CREATE TABLE user_cohort AS \\\n",
    "                SELECT  userId, MIN(strftime('%Y-%m-01', createdAt)) AS cohort \\\n",
    "                FROM orders GROUP BY  userId;\"\n",
    "    try:\n",
    "        execute_query(conn, cohort_table)\n",
    "        logging.info(\"cohort table created successfully.\")\n",
    "    except Exception as e:\n",
    "        logging.error(f\"Cohort table can't be created: {e}\")\n",
    "\n",
    "    # create denormalized_table table\n",
    "    table_query = f\"CREATE TABLE {TABLE_DENORM} AS \\\n",
    "        SELECT o.id AS order_id, \\\n",
    "        o.createdAt AS order_date, \\\n",
    "        o.userId AS user_id, \\\n",
    "        o.quantity, o.sales, \\\n",
    "        o.currency, o.providerId AS provider_id, \\\n",
    "        p.defaultOfferType AS provider_offer_type,\\\n",
    "        p.country AS provider_country,\\\n",
    "        p.registeredDate AS provider_registered_date,\\\n",
    "        u.country AS user_country,\\\n",
    "        u.registeredDate AS user_registered_date, \\\n",
    "        uc.cohort AS 'user_cohort' \\\n",
    "        FROM orders o \\\n",
    "        JOIN providers p ON o.providerId = p.id \\\n",
    "        JOIN users u ON o.userId = u.id \\\n",
    "        JOIN user_cohort uc ON o.userId = uc.userId;\"\n",
    "    try:\n",
    "        execute_query(conn, table_query)\n",
    "        logging.info(f\"{TABLE_DENORM} created successfully.\")\n",
    "    except Exception as e:\n",
    "        logging.error(f\"An exception occured while creating {TABLE_DENORM} {e}\")\n",
    "\n",
    "    #Delete temporary table\n",
    "    try:\n",
    "        execute_query(conn, \"Drop Table user_cohort\")\n",
    "    except Exception as e:\n",
    "        logging.error(f\"An exception occured while dropping cohort table: {e}\")\n",
    "\n",
    "\n",
    "    #Close DB connection -- Release resources\n",
    "    conn.close()"
   ]
  },
  {
   "cell_type": "markdown",
   "metadata": {},
   "source": [
    "Analysis Queries (Optional): I used them to validate the implementation."
   ]
  },
  {
   "cell_type": "code",
   "execution_count": 21,
   "metadata": {},
   "outputs": [
    {
     "name": "stdout",
     "output_type": "stream",
     "text": [
      "Top 10 providers by sale\n"
     ]
    },
    {
     "data": {
      "text/html": [
       "<div>\n",
       "<style scoped>\n",
       "    .dataframe tbody tr th:only-of-type {\n",
       "        vertical-align: middle;\n",
       "    }\n",
       "\n",
       "    .dataframe tbody tr th {\n",
       "        vertical-align: top;\n",
       "    }\n",
       "\n",
       "    .dataframe thead th {\n",
       "        text-align: right;\n",
       "    }\n",
       "</style>\n",
       "<table border=\"1\" class=\"dataframe\">\n",
       "  <thead>\n",
       "    <tr style=\"text-align: right;\">\n",
       "      <th></th>\n",
       "      <th>provider_id</th>\n",
       "      <th>total_sales</th>\n",
       "    </tr>\n",
       "  </thead>\n",
       "  <tbody>\n",
       "    <tr>\n",
       "      <th>0</th>\n",
       "      <td>7198110370745783236</td>\n",
       "      <td>10917800</td>\n",
       "    </tr>\n",
       "    <tr>\n",
       "      <th>1</th>\n",
       "      <td>8312310143652755348</td>\n",
       "      <td>7467750</td>\n",
       "    </tr>\n",
       "    <tr>\n",
       "      <th>2</th>\n",
       "      <td>8097235958083241788</td>\n",
       "      <td>2383700</td>\n",
       "    </tr>\n",
       "    <tr>\n",
       "      <th>3</th>\n",
       "      <td>3865474760205653333</td>\n",
       "      <td>2223400</td>\n",
       "    </tr>\n",
       "    <tr>\n",
       "      <th>4</th>\n",
       "      <td>8084884958338058541</td>\n",
       "      <td>1868140</td>\n",
       "    </tr>\n",
       "    <tr>\n",
       "      <th>5</th>\n",
       "      <td>4734853230275691017</td>\n",
       "      <td>1702100</td>\n",
       "    </tr>\n",
       "    <tr>\n",
       "      <th>6</th>\n",
       "      <td>5305286819167536850</td>\n",
       "      <td>1690500</td>\n",
       "    </tr>\n",
       "    <tr>\n",
       "      <th>7</th>\n",
       "      <td>1066258454353124935</td>\n",
       "      <td>1568100</td>\n",
       "    </tr>\n",
       "    <tr>\n",
       "      <th>8</th>\n",
       "      <td>7642201963087705313</td>\n",
       "      <td>1472000</td>\n",
       "    </tr>\n",
       "    <tr>\n",
       "      <th>9</th>\n",
       "      <td>4014236829817167297</td>\n",
       "      <td>1457000</td>\n",
       "    </tr>\n",
       "  </tbody>\n",
       "</table>\n",
       "</div>"
      ],
      "text/plain": [
       "           provider_id  total_sales\n",
       "0  7198110370745783236     10917800\n",
       "1  8312310143652755348      7467750\n",
       "2  8097235958083241788      2383700\n",
       "3  3865474760205653333      2223400\n",
       "4  8084884958338058541      1868140\n",
       "5  4734853230275691017      1702100\n",
       "6  5305286819167536850      1690500\n",
       "7  1066258454353124935      1568100\n",
       "8  7642201963087705313      1472000\n",
       "9  4014236829817167297      1457000"
      ]
     },
     "metadata": {},
     "output_type": "display_data"
    },
    {
     "name": "stdout",
     "output_type": "stream",
     "text": [
      "Favorite Partner Segments: \n"
     ]
    },
    {
     "data": {
      "text/html": [
       "<div>\n",
       "<style scoped>\n",
       "    .dataframe tbody tr th:only-of-type {\n",
       "        vertical-align: middle;\n",
       "    }\n",
       "\n",
       "    .dataframe tbody tr th {\n",
       "        vertical-align: top;\n",
       "    }\n",
       "\n",
       "    .dataframe thead th {\n",
       "        text-align: right;\n",
       "    }\n",
       "</style>\n",
       "<table border=\"1\" class=\"dataframe\">\n",
       "  <thead>\n",
       "    <tr style=\"text-align: right;\">\n",
       "      <th></th>\n",
       "      <th>provider_offer_type</th>\n",
       "      <th>total_sales</th>\n",
       "    </tr>\n",
       "  </thead>\n",
       "  <tbody>\n",
       "    <tr>\n",
       "      <th>0</th>\n",
       "      <td>meal</td>\n",
       "      <td>187308136</td>\n",
       "    </tr>\n",
       "    <tr>\n",
       "      <th>1</th>\n",
       "      <td>snack</td>\n",
       "      <td>25307411</td>\n",
       "    </tr>\n",
       "    <tr>\n",
       "      <th>2</th>\n",
       "      <td>grocery-bag</td>\n",
       "      <td>15371244</td>\n",
       "    </tr>\n",
       "    <tr>\n",
       "      <th>3</th>\n",
       "      <td>dessert</td>\n",
       "      <td>2301810</td>\n",
       "    </tr>\n",
       "    <tr>\n",
       "      <th>4</th>\n",
       "      <td>ingredients</td>\n",
       "      <td>738553</td>\n",
       "    </tr>\n",
       "    <tr>\n",
       "      <th>5</th>\n",
       "      <td>flowers</td>\n",
       "      <td>58885</td>\n",
       "    </tr>\n",
       "  </tbody>\n",
       "</table>\n",
       "</div>"
      ],
      "text/plain": [
       "  provider_offer_type  total_sales\n",
       "0                meal    187308136\n",
       "1               snack     25307411\n",
       "2         grocery-bag     15371244\n",
       "3             dessert      2301810\n",
       "4         ingredients       738553\n",
       "5             flowers        58885"
      ]
     },
     "metadata": {},
     "output_type": "display_data"
    },
    {
     "name": "stdout",
     "output_type": "stream",
     "text": [
      "2022-11 M1: \n"
     ]
    },
    {
     "data": {
      "text/html": [
       "<div>\n",
       "<style scoped>\n",
       "    .dataframe tbody tr th:only-of-type {\n",
       "        vertical-align: middle;\n",
       "    }\n",
       "\n",
       "    .dataframe tbody tr th {\n",
       "        vertical-align: top;\n",
       "    }\n",
       "\n",
       "    .dataframe thead th {\n",
       "        text-align: right;\n",
       "    }\n",
       "</style>\n",
       "<table border=\"1\" class=\"dataframe\">\n",
       "  <thead>\n",
       "    <tr style=\"text-align: right;\">\n",
       "      <th></th>\n",
       "      <th>cohort_size</th>\n",
       "    </tr>\n",
       "  </thead>\n",
       "  <tbody>\n",
       "    <tr>\n",
       "      <th>0</th>\n",
       "      <td>7234</td>\n",
       "    </tr>\n",
       "  </tbody>\n",
       "</table>\n",
       "</div>"
      ],
      "text/plain": [
       "   cohort_size\n",
       "0         7234"
      ]
     },
     "metadata": {},
     "output_type": "display_data"
    }
   ],
   "source": [
    "#connect SQLite DB\n",
    "conn = connect_db()\n",
    "if not conn:\n",
    "    logging.error(\"Could not connect DB\")\n",
    "else:\n",
    "    top_10_partners_query = f\"select provider_id, sum(sales) as total_sales from {TABLE_DENORM} \\\n",
    "        group by provider_id order by total_sales DESC limit 10\"\n",
    "    top_10_partners = pd.read_sql_query(top_10_partners_query, conn)\n",
    "    print(\"Top 10 providers by sale\")\n",
    "    display(top_10_partners)\n",
    "\n",
    "    fav_partner_segment = f\"select provider_offer_type, sum(sales) as 'total_sales' \\\n",
    "                            from {TABLE_DENORM} \\\n",
    "                            group by provider_offer_type order by total_sales DESC\"\n",
    "    fav_partner_segments = pd.read_sql_query(fav_partner_segment, conn)\n",
    "    print(\"Favorite Partner Segments: \")\n",
    "    display(fav_partner_segments)\n",
    "\n",
    "    #cohort 2022-11 - M1 Retension\n",
    "    \"\"\" \n",
    "        I have run a separate query to check total customers 2022-11 and the number was 12,559.\n",
    "        Based on the analysis only 7234 were retained for the cohort in question.\n",
    "        The query used: select DISTINCT user_id from denorm_table dt where dt.user_cohort='2022-11-01'\n",
    "    \"\"\"\n",
    "    m1_retention = f\"select count(DISTINCT user_id) as 'cohort_size'  from {TABLE_DENORM} \\\n",
    "                    where user_cohort = '2022-11-01' and order_date > date(user_cohort, '+1 month')\"\n",
    "    m1_retention_data = pd.read_sql_query(m1_retention, conn)\n",
    "    print(\"2022-11 M1: \")\n",
    "    display(m1_retention_data)\n",
    "    conn.close()"
   ]
  },
  {
   "cell_type": "markdown",
   "metadata": {},
   "source": [
    "#### Problem - 2"
   ]
  },
  {
   "cell_type": "code",
   "execution_count": 22,
   "metadata": {},
   "outputs": [],
   "source": [
    "def get_data():\n",
    "    \"\"\"\n",
    "    Connect to SQLite DB and retrieve table as a data frame.\n",
    "    Column data types are mapped to appropriate python data type\n",
    "    for better memory utilization and compute performance.\n",
    "\n",
    "    Returns:\n",
    "        pd.Dataframe: returns table in a pandas dataframe.\n",
    "\n",
    "    \"\"\"\n",
    "    #connect SQLite DB\n",
    "    conn = connect_db()\n",
    "    data_df = None\n",
    "    if not conn:\n",
    "        logging.error(\"Could not connect DB\")\n",
    "    else:\n",
    "        try:\n",
    "            column_types = {\n",
    "                'order_id': np.int64,\n",
    "                'user_id': np.int64,\n",
    "                'provider_id': np.int64,\n",
    "                'quantity': np.uint8,\n",
    "                'sales': np.uint32,\n",
    "                'currency': pd.StringDtype(),\n",
    "                'provider_offer_type': pd.StringDtype(),\n",
    "                'provider_country': pd.StringDtype(),\n",
    "                'user_country': pd.StringDtype(),\n",
    "                'user_cohort': pd.StringDtype()\n",
    "            }\n",
    "            data_df = pd.read_sql_query(f\"select * from {TABLE_DENORM}\", conn, dtype=column_types, parse_dates=['order_date','provider_registered_date','user_registered_date'])\n",
    "        except Exception as e:\n",
    "            logging.error(f\"Could not read {TABLE_DENORM}. {e}\")\n",
    "        finally:\n",
    "            conn.close()\n",
    "        return data_df\n",
    "    \n",
    "def get_purchase_frequency(total_orders, total_customers):\n",
    "    \"\"\"\n",
    "    Calculate purchase frequency based on total number of orders\n",
    "    and unique number of customers.\n",
    "\n",
    "    Args:\n",
    "        total_orders (int): total number of orders.\n",
    "        total_customers (int): total number of customers.\n",
    "\n",
    "    Returns:\n",
    "        float: returns purchase frequency.\n",
    "    \"\"\"\n",
    "    purchase_frequency = 0\n",
    "    if total_customers > 0:\n",
    "        purchase_frequency = total_orders / total_customers\n",
    "    return purchase_frequency\n",
    "\n",
    "def get_average_order_value(total_sales, total_orders):\n",
    "    \"\"\"\n",
    "    Calculate average order value based on total sales\n",
    "    and number of orders.\n",
    "\n",
    "    Args:\n",
    "        total_sales (numpy.uint64): total sales.\n",
    "        total_orders (int): total number of orders.\n",
    "\n",
    "    Returns:\n",
    "        numpy.float64: returns average order value.\n",
    "    \"\"\"\n",
    "    if total_orders > 0:\n",
    "        avg_order_value = total_sales / total_orders\n",
    "    return avg_order_value\n",
    "\n",
    "def get_customer_lifespans(df):\n",
    "    \"\"\"\n",
    "    Calculate customer lifespan based on their first and last purchase dates\n",
    "\n",
    "    Args:\n",
    "        df (pd.Dtaframe): denoum_table(DB Table) as a pandas dataframe.\n",
    "\n",
    "    Returns:\n",
    "        pd.Series: returns a series of customer lifespans.\n",
    "    \"\"\"\n",
    "    # first and last purchase dates for each user\n",
    "    customer_lifespan = df.groupby('user_id').agg(\n",
    "        first_purchase=('order_date', 'min'),\n",
    "        last_purchase=('order_date', 'max')\n",
    "    )\n",
    "    # customer lifespan in days\n",
    "    customer_lifespans = (pd.to_datetime(customer_lifespan['last_purchase']) -\n",
    "                                    pd.to_datetime(customer_lifespan['first_purchase'])).dt.days\n",
    "    \n",
    "    return customer_lifespans\n",
    "\n",
    "def calculate_clv(purchase_frequency, average_order_value, average_lifespan):\n",
    "    \"\"\" \n",
    "    Calculate CLV: Factors to consider in calculation: purchase frequency, average order value, \n",
    "    and average customer lifespan (the time between customers' first and last purchase)\n",
    "\n",
    "    Args:\n",
    "        purchase_frequency (float): calculated purchase frequency.\n",
    "        average_order_value (numpy.float64): calculated average order value\n",
    "        average_lifespan (numpy.float64): calculate customer average lifespan\n",
    "\n",
    "    Returns:\n",
    "        numpy.float64: returns customer lifetime value (CLV).\n",
    "    \"\"\"\n",
    "    #expected CLV\n",
    "    clv = purchase_frequency * average_order_value * average_lifespan\n",
    "    return clv\n",
    "\n",
    "def replace_outliers_with_percentile(data, percentile=90):\n",
    "    nth_percentile = np.nanpercentile(sorted(data), percentile)\n",
    "    return np.where(data > nth_percentile, nth_percentile, data)"
   ]
  },
  {
   "cell_type": "markdown",
   "metadata": {},
   "source": [
    "#### Calculate customer lifetime value"
   ]
  },
  {
   "cell_type": "code",
   "execution_count": 23,
   "metadata": {},
   "outputs": [
    {
     "name": "stdout",
     "output_type": "stream",
     "text": [
      "Estimated CLV: 144367.84\n"
     ]
    }
   ],
   "source": [
    "\n",
    "data_df = get_data()\n",
    "if not data_df.empty:\n",
    "    total_orders = data_df['order_id'].nunique()\n",
    "    unique_customers = data_df['user_id'].nunique()\n",
    "    #calculate purchase frequency\n",
    "    purchase_frequency = get_purchase_frequency(total_orders, unique_customers)\n",
    "    #average order value\n",
    "    total_sales = data_df['sales'].sum()\n",
    "    average_order_value = get_average_order_value(total_sales, total_orders)\n",
    "\n",
    "    #average customer lifespan\n",
    "    customer_lifespans = get_customer_lifespans(data_df)\n",
    "    average_lifespan = customer_lifespans.mean()\n",
    "\n",
    "    #calculate clv\n",
    "    clv = calculate_clv(purchase_frequency, average_order_value, average_lifespan)\n",
    "\n",
    "    print(f\"Estimated CLV: {clv:.2f}\")"
   ]
  },
  {
   "cell_type": "markdown",
   "metadata": {},
   "source": [
    "**Remarks:**\n",
    "\n",
    "Estimated value seems too big. On Further investigation, I figured sales has few outliers that are making the\n",
    "value too big. I stopped the implementation here assuming the purpose of the assignment is assessing coding\n",
    "style. However, there are many other factors that should be considered to get a correct value of CLV for instance\n",
    "average life span may also contain outliers if a user's order are too far apart. Similarly profitability and churn rate can also be calculated and incorporated in the formula. I have seen in my initial analysis sales value does not represent \n",
    "single currency value (SEK, EUR) so a better idea would be to first fix these discrepencies in the data and then do CLV calculations. \n",
    "\n",
    "Overall, I enjoyed solving the assignment and reading about some new concepts regarding insight analytics and CLV."
   ]
  },
  {
   "cell_type": "code",
   "execution_count": 24,
   "metadata": {},
   "outputs": [
    {
     "data": {
      "text/plain": [
       "count    299971.000000\n",
       "mean        770.361265\n",
       "std        1505.639471\n",
       "min           0.000000\n",
       "25%         350.000000\n",
       "50%         550.000000\n",
       "75%         800.000000\n",
       "max      102500.000000\n",
       "Name: sales, dtype: float64"
      ]
     },
     "execution_count": 24,
     "metadata": {},
     "output_type": "execute_result"
    }
   ],
   "source": [
    "# To see outliers in sales variable\n",
    "data_df['sales'].describe()"
   ]
  },
  {
   "cell_type": "code",
   "execution_count": 25,
   "metadata": {},
   "outputs": [
    {
     "data": {
      "image/png": "[encoded data removed]",
      "text/plain": [
       "<Figure size 640x480 with 1 Axes>"
      ]
     },
     "metadata": {},
     "output_type": "display_data"
    }
   ],
   "source": [
    "data_df.boxplot(column='sales')\n",
    "plt.title('Box Plot of sales')\n",
    "plt.show()"
   ]
  },
  {
   "cell_type": "code",
   "execution_count": 27,
   "metadata": {},
   "outputs": [
    {
     "data": {
      "text/plain": [
       "count    299971.000000\n",
       "mean        655.924026\n",
       "std         514.270169\n",
       "min           0.000000\n",
       "25%         350.000000\n",
       "50%         550.000000\n",
       "75%         800.000000\n",
       "max        2746.440000\n",
       "Name: sales, dtype: float64"
      ]
     },
     "metadata": {},
     "output_type": "display_data"
    },
    {
     "name": "stdout",
     "output_type": "stream",
     "text": [
      "Estimated CLV: 122921.98\n"
     ]
    }
   ],
   "source": [
    "\"\"\" \n",
    "    One potential solution to eliminate outliers in sales is to use highest possible percentile \n",
    "    (inspired by winsorization) and replace outliers to get a better estimate of CLV.\n",
    "\"\"\"\n",
    "data_df['sales'] = replace_outliers_with_percentile(data_df['sales'], percentile=98)\n",
    "\n",
    "\"\"\"\n",
    "    Since I followed a modular approach, it is possible to address the discrepencies in a data preprocessing\n",
    "    step iteratively and evaluate the CLV value for better estimate. \n",
    "\"\"\"\n",
    "#re-calculate average order value\n",
    "total_sales = data_df['sales'].sum()\n",
    "average_order_value = get_average_order_value(total_sales, total_orders)\n",
    "\n",
    "clv = calculate_clv(purchase_frequency, average_order_value, average_lifespan)\n",
    "print(f\"Estimated CLV: {clv:.2f}\")"
   ]
  }
 ],
 "metadata": {
  "kernelspec": {
   "display_name": "rc_data_assignment",
   "language": "python",
   "name": "python3"
  },
  "language_info": {
   "codemirror_mode": {
    "name": "ipython",
    "version": 3
   },
   "file_extension": ".py",
   "mimetype": "text/x-python",
   "name": "python",
   "nbconvert_exporter": "python",
   "pygments_lexer": "ipython3",
   "version": "3.10.12"
  }
 },
 "nbformat": 4,
 "nbformat_minor": 2
}
